{
  "nbformat": 4,
  "nbformat_minor": 0,
  "metadata": {
    "colab": {
      "name": "2_example_answer.ipynb",
      "provenance": []
    },
    "kernelspec": {
      "name": "python3",
      "display_name": "Python 3"
    },
    "language_info": {
      "name": "python"
    }
  },
  "cells": [
    {
      "cell_type": "code",
      "metadata": {
        "id": "64qTyLUjA0J7"
      },
      "source": [
        ""
      ],
      "execution_count": 72,
      "outputs": []
    },
    {
      "cell_type": "markdown",
      "metadata": {
        "id": "rNRKc9vcHI9l"
      },
      "source": [
        "[Problem 1] Implementation using exponentiation arithmetic operators\n"
      ]
    },
    {
      "cell_type": "markdown",
      "metadata": {
        "id": "qcPL_SDiBHV5"
      },
      "source": [
        "Create a program that uses the exponentiation arithmetic operator.\n",
        "As a template, we have prepared a code that calculates the thickness of a sheet of paper when it is folded once. Rewrite the code to calculate the thickness when the paper is folded 43 times."
      ]
    },
    {
      "cell_type": "markdown",
      "metadata": {
        "id": "FtOINeasCwdo"
      },
      "source": [
        "According to the introduction, when a peice of paper, let an A4 paper with a thickness of 0.00008m is folded 43 times, the thickness of that paper will increase and it will possibly reach the moon. <br> Now let assume that the thickness of the paper when folded 45 times is t43. This can be obtained using the formula t43 = t0 x 2^43. t0 is the thickness of the paper before folding.<br>Now we are asked to use exponentation that is power operator to calculate the thickness of the peice of paper when it is folded 43 times. The sample code provided below is used to calculate the thickness of the paper whrn it is folded once.\n"
      ]
    },
    {
      "cell_type": "code",
      "metadata": {
        "colab": {
          "base_uri": "https://localhost:8080/"
        },
        "id": "ZAR5yMl6A2IB",
        "outputId": "f1451d6b-7a41-428c-c7be-1647eb5f6ea4"
      },
      "source": [
        "# Code to calculate the thickness when the paper is folded once\n",
        "\n",
        "THICKNESS = 0.00008\n",
        "folded_thickness = THICKNESS * 2\n",
        "print(\"Thickness: {} meters\".format(folded_thickness))"
      ],
      "execution_count": 73,
      "outputs": [
        {
          "output_type": "stream",
          "name": "stdout",
          "text": [
            "Thickness: 0.00016 meters\n"
          ]
        }
      ]
    },
    {
      "cell_type": "markdown",
      "metadata": {
        "id": "WXdAk5KIG9AC"
      },
      "source": [
        "Understanding the sample code will help you to rewrite the code to solve problem 1.<br> First we will create a variable name \"THICKNESS\" that will hold the thickness of paper before folding nwhich is 0.00008. Line 4 actually perform the calculation which is the THICKNESS of the paper multiply by two to give the thickness of the paper when folded once and this result is stored in sa folder calles folded_thickness.<br> Someone may want to ask, \"why are we multuplying by 2 when we are actually filding the paper once?\" That is simply because when folding a piece of paper like A4, when you lap the paper against itself pairing the four corners, you will notice that you get two sheet and by  so you double the thickness. That is why the output is 0.00016 which is twice the original thicnkness.<br> Line 5 uses a print function. It display whatever arguement passed within the function. Within the print function, another function is introduced which is th format. This function helps to create a format you will want to use to display your result. it take whatever argument and pass it to the position where the curly bracket is place. the curly bracket serve as a place holder or coordinate for the .format function."
      ]
    },
    {
      "cell_type": "code",
      "metadata": {
        "colab": {
          "base_uri": "https://localhost:8080/"
        },
        "id": "mUOQNWWGsf8b",
        "outputId": "3b470528-ae95-4abd-abf2-12a5223997af"
      },
      "source": [
        "# Code to calculate the thickness when the paper is folded 43 times\n",
        "\n",
        "THICKNESS = 0.00008\n",
        "folded_thickness = THICKNESS * 2**43\n",
        "print(\"Thickness: {} meters\".format(folded_thickness))"
      ],
      "execution_count": 74,
      "outputs": [
        {
          "output_type": "stream",
          "name": "stdout",
          "text": [
            "Thickness: 703687441.77664 meters\n"
          ]
        }
      ]
    },
    {
      "cell_type": "markdown",
      "metadata": {
        "id": "1vtqT00DHScb"
      },
      "source": [
        "[Problem 2] Unit Conversion"
      ]
    },
    {
      "cell_type": "markdown",
      "metadata": {
        "id": "POG0suIm8ACf"
      },
      "source": [
        "When the unit is in meters, it is difficult to know the difference, so we will convert the unit into 10,000 kilometer. A sample code has been given that will convert the unit into km."
      ]
    },
    {
      "cell_type": "code",
      "metadata": {
        "colab": {
          "base_uri": "https://localhost:8080/"
        },
        "id": "aAcTFUUKCas6",
        "outputId": "76c0f7d4-36dd-4064-9031-e0aa418681d8"
      },
      "source": [
        "# Convert meters to kilometers and display with two decimal places\n",
        "print(\"Thickness: {: .2f} kilometers\".format(folded_thickness / 1000))"
      ],
      "execution_count": 75,
      "outputs": [
        {
          "output_type": "stream",
          "name": "stdout",
          "text": [
            "Thickness:  703687.44 kilometers\n"
          ]
        }
      ]
    },
    {
      "cell_type": "markdown",
      "metadata": {
        "id": "huU0idTaGVpS"
      },
      "source": [
        "The distance to the moon is approximately 384,400 km. Let's check if the folded paper arrives in the moon.<br>\n",
        "From the figure above, it is obvious that the paper will reach the moon if folded 43 times."
      ]
    },
    {
      "cell_type": "markdown",
      "metadata": {
        "id": "IgSrF2l5D4vB"
      },
      "source": [
        "How that the unit is in kilometer, we will the now use the code to convert the unit into 10,000 kilometer."
      ]
    },
    {
      "cell_type": "code",
      "metadata": {
        "colab": {
          "base_uri": "https://localhost:8080/"
        },
        "id": "RIiYhrqFFRV1",
        "outputId": "74436a3d-8daa-40c2-e0c7-dccce21b63b7"
      },
      "source": [
        "# Convert meters to kilometers and display with two decimal places\n",
        "print(\"Thickness: {: .2f} kilometers\".format(folded_thickness / 10000))"
      ],
      "execution_count": 76,
      "outputs": [
        {
          "output_type": "stream",
          "name": "stdout",
          "text": [
            "Thickness:  70368.74 kilometers\n"
          ]
        }
      ]
    },
    {
      "cell_type": "markdown",
      "metadata": {
        "id": "45MZev9SGFxY"
      },
      "source": [
        "[Problem 3] Create using a for statement\n"
      ]
    },
    {
      "cell_type": "markdown",
      "metadata": {
        "id": "RDRfocd7HmwV"
      },
      "source": [
        "Next, create a program that uses the for statement.\n",
        "\n",
        "\n",
        "Do not use exponentiation arithmetic operators. Only the four arithmetic operations+ , - , * , / ) are allowed.<br> Problem 3 is asking us to calculate the thickness of the paper when folded 43 times as in problem 1 and 2 but this time using for loop.\n",
        "\n"
      ]
    },
    {
      "cell_type": "code",
      "metadata": {
        "colab": {
          "base_uri": "https://localhost:8080/"
        },
        "id": "C9JewhdEKFW3",
        "outputId": "cbe6fd64-2d4f-4923-e82e-8153ce9f712e"
      },
      "source": [
        "num_folds = 43\n",
        "thickness=0.00008\n",
        "for i in range(1, num_folds + 1):\n",
        "        foldedthickness = thickness *2**i\n",
        "print(\"Thickness： {} meters\".format(foldedthickness))\n",
        "\n",
        "#convert to meter\n",
        "print(\"Thickness： {:.2f} meter\".format(foldedthickness/1000))\n",
        "\n",
        "#convert to kilometer\n",
        "print(\"Thickness： {:.2f} km\".format(foldedthickness/10000))\n"
      ],
      "execution_count": 77,
      "outputs": [
        {
          "output_type": "stream",
          "name": "stdout",
          "text": [
            "Thickness： 703687441.77664 meters\n",
            "Thickness： 703687.44 meter\n",
            "Thickness： 70368.74 km\n"
          ]
        }
      ]
    },
    {
      "cell_type": "markdown",
      "metadata": {
        "id": "ckcRPHxtdDsJ"
      },
      "source": [
        "In the code above, we tried to claculate the thickness of the piece of paper when folded 43 times using a for loop.<br> A for loop is used to repeat a block of code in a give amount of time. So the first step is we created two variables. num_folds that holds the value for the number of folds and thickness that hold the value of the original thickness of the paper.<br> we now create a for and give it a range of 1 to 44. we then calculate the thickness and svae it in  the foldedthickness variable.  "
      ]
    },
    {
      "cell_type": "markdown",
      "metadata": {
        "id": "pCrbIlgAMp4C"
      },
      "source": [
        "[Problem 4] Comparison of calculation time"
      ]
    },
    {
      "cell_type": "markdown",
      "metadata": {
        "id": "aK4zDFggn733"
      },
      "source": [
        "\n",
        "This time I will compare the execution speed.\n",
        "\n",
        "\n",
        "Use the template below to output the execution times of the two methods and compare them. Compare the time in the range excluding the parts used by either method, such as variable definition and print​. <br>\n",
        " we have looked at two methods for the calculating the thickness of the paper.\n",
        " Now we want to compare the executation time between the codes. to do that, we will be needing the time module. we will find the execution time by calculating the time difference before and after the code we want to compare.\n",
        "\n"
      ]
    },
    {
      "cell_type": "code",
      "metadata": {
        "colab": {
          "base_uri": "https://localhost:8080/"
        },
        "id": "_Y7Z0JE_pSYT",
        "outputId": "00e2ce3e-96f5-47f2-93e4-2c6c0d675e21"
      },
      "source": [
        "import time\n",
        "start = time.time()\n",
        "#####\n",
        "THICKNESS = 0.00008\n",
        "folded_thickness = THICKNESS*2**43\n",
        "print(\"Thickness： {} meters\".format(folded_thickness))\n",
        "#####\n",
        "elapsed_time = time.time() - start\n",
        "print(\"time : {}[s]\".format(elapsed_time))"
      ],
      "execution_count": 78,
      "outputs": [
        {
          "output_type": "stream",
          "name": "stdout",
          "text": [
            "Thickness： 703687441.77664 meters\n",
            "time : 0.0011937618255615234[s]\n"
          ]
        }
      ]
    },
    {
      "cell_type": "markdown",
      "metadata": {
        "id": "ngR9RoEjpU8S"
      },
      "source": [
        "First we import the time module and the create the object of the class time. And we then pass our code from problem 1. To know the time it take for the program to execute, we will deduct the the start time from the total time. Finallyu we print the rsult in seconds.<br> We will repeat the same process for our second method."
      ]
    },
    {
      "cell_type": "code",
      "metadata": {
        "colab": {
          "base_uri": "https://localhost:8080/"
        },
        "id": "j9oND8ExrMo3",
        "outputId": "ee5d5739-618a-44e9-bac4-3f94f868b7aa"
      },
      "source": [
        "import time\n",
        "start = time.time()\n",
        "num_folds = 43\n",
        "thickness=0.00008\n",
        "for i in range(1, num_folds + 1):\n",
        "        foldedthickness = thickness *2**i\n",
        "print(\"Thickness： {} meters\".format(foldedthickness))\n",
        "elapsed_time = time.time() - start\n",
        "print(\"time : {}[s]\".format(elapsed_time))"
      ],
      "execution_count": 79,
      "outputs": [
        {
          "output_type": "stream",
          "name": "stdout",
          "text": [
            "Thickness： 703687441.77664 meters\n",
            "time : 0.0018413066864013672[s]\n"
          ]
        }
      ]
    },
    {
      "cell_type": "markdown",
      "metadata": {
        "id": "Iyg9pOycsMJf"
      },
      "source": [
        "From the output, you will realise the it took more time for the for loop function to execute as compare the the exponentiation  method."
      ]
    },
    {
      "cell_type": "markdown",
      "metadata": {
        "id": "Qpj2_7BGtb8A"
      },
      "source": [
        "[Problem 5] Saving to a list"
      ]
    },
    {
      "cell_type": "markdown",
      "metadata": {
        "id": "IGFW6dzgtgCp"
      },
      "source": [
        "So far, we have only used the last value after 43 folds, but we need the process values as well to visualize them in the graph; add the code that records the total of 44 process values to the code using the for statement.<br>\n"
      ]
    },
    {
      "cell_type": "code",
      "metadata": {
        "colab": {
          "base_uri": "https://localhost:8080/"
        },
        "id": "QP57k34IuLwy",
        "outputId": "2be60f49-2555-49e0-f5a2-66a5773b14b3"
      },
      "source": [
        "#Creating an empty list\n",
        "list1 = [0.00008]\n",
        "fold_num = 43\n",
        "thickness = 0.00008\n",
        "\n",
        "#folded_thickness = \n",
        "for i in range(1, fold_num + 1):\n",
        "    folded_thickness = thickness*2**i\n",
        "    \n",
        "    #Adding values to the list\n",
        "    list1.append(folded_thickness)\n",
        "print(\"length: \", len(list1))\n",
        "print(list1)"
      ],
      "execution_count": 80,
      "outputs": [
        {
          "output_type": "stream",
          "name": "stdout",
          "text": [
            "length:  44\n",
            "[8e-05, 0.00016, 0.00032, 0.00064, 0.00128, 0.00256, 0.00512, 0.01024, 0.02048, 0.04096, 0.08192, 0.16384, 0.32768, 0.65536, 1.31072, 2.62144, 5.24288, 10.48576, 20.97152, 41.94304, 83.88608, 167.77216, 335.54432, 671.08864, 1342.17728, 2684.35456, 5368.70912, 10737.41824, 21474.83648, 42949.67296, 85899.34592, 171798.69184, 343597.38368, 687194.76736, 1374389.53472, 2748779.06944, 5497558.13888, 10995116.27776, 21990232.55552, 43980465.11104, 87960930.22208, 175921860.44416, 351843720.88832, 703687441.77664]\n"
          ]
        }
      ]
    },
    {
      "cell_type": "markdown",
      "metadata": {
        "id": "TpVP563DuYxF"
      },
      "source": [
        "- First, create an empty list.\n",
        "- Next, add the value before folding to the list.\n",
        "- Add the value of the process of folding the paper up to n times in the for statement to the list.<br> \n",
        "\n",
        "Finally, let's use the len function to confirm that 44 values are stored in the list."
      ]
    },
    {
      "cell_type": "markdown",
      "metadata": {
        "id": "o-mWeS9ew7JN"
      },
      "source": [
        "[Problem 6] Displaying a line graph"
      ]
    },
    {
      "cell_type": "markdown",
      "metadata": {
        "id": "wKcm5q7dw8v5"
      },
      "source": [
        "A library called Matplotlib is used to draw the graph. Use the following template after the code you want to record in the list. We will use the sample code provided to solve this problem."
      ]
    },
    {
      "cell_type": "code",
      "metadata": {
        "colab": {
          "base_uri": "https://localhost:8080/",
          "height": 295
        },
        "id": "3i6OYn1gxMM6",
        "outputId": "19f5e7ee-913c-4ba8-cf2f-d0fe09a7887a"
      },
      "source": [
        "import matplotlib.pyplot as plt\n",
        "#%matplotlib inline\n",
        "\n",
        "plt.title(\"thickness of folded paper\")\n",
        "plt.xlabel(\"number of folds\")\n",
        "plt.ylabel(\"thickness[M]\")\n",
        "plt.tick_params(labelsize=10)\n",
        "plt.plot(list1)\n",
        "plt.show()"
      ],
      "execution_count": 81,
      "outputs": [
        {
          "output_type": "display_data",
          "data": {
            "image/png": "[encoded data removed]",
            "text/plain": [
              "<Figure size 432x288 with 1 Axes>"
            ]
          },
          "metadata": {
            "needs_background": "light"
          }
        }
      ]
    },
    {
      "cell_type": "markdown",
      "metadata": {
        "id": "kFbOWNxVxT5p"
      },
      "source": [
        "- first we import a module in matplotlib library call pyplot and we are going to be calling it as plt.\n",
        "- Next we use a title() method ot give title to the graph\n",
        "- Next we use the x and y label() method to label the x and y axis of the graph.\n",
        "- Next we call the plot() method and pass the list1 created in problem 5.\n",
        "- finally we call the show() mehtod to display the graph."
      ]
    },
    {
      "cell_type": "markdown",
      "metadata": {
        "id": "duqWJdr60OyO"
      },
      "source": [
        "[Problem 7] Customizing graphs"
      ]
    },
    {
      "cell_type": "markdown",
      "metadata": {
        "id": "o8O_rSvQ1Cp_"
      },
      "source": [
        "Let's customize the graph to make it easier to see. Create at least 3 customized graphs. For example, the line color can be changed to red by rewriting as follows."
      ]
    },
    {
      "cell_type": "code",
      "metadata": {
        "colab": {
          "base_uri": "https://localhost:8080/",
          "height": 312
        },
        "id": "sGBUzHMo0qm5",
        "outputId": "6d9189fe-49e8-47eb-dee9-636787f5fda3"
      },
      "source": [
        "#Making the line dotted\n",
        "plt.title(\"thickness of folded paper\")\n",
        "plt.xlabel(\"number of folds\")\n",
        "plt.ylabel(\"thickness[M]\")\n",
        "#changing line style and color\n",
        "plt.plot(list1, 'ro' )\n",
        "\n",
        "plt.figure(figsize=(48, 24))\n",
        "plt.show()"
      ],
      "execution_count": 82,
      "outputs": [
        {
          "output_type": "display_data",
          "data": {
            "image/png": "[encoded data removed]",
            "text/plain": [
              "<Figure size 432x288 with 1 Axes>"
            ]
          },
          "metadata": {
            "needs_background": "light"
          }
        },
        {
          "output_type": "display_data",
          "data": {
            "text/plain": [
              "<Figure size 3456x1728 with 0 Axes>"
            ]
          },
          "metadata": {}
        }
      ]
    },
    {
      "cell_type": "code",
      "metadata": {
        "colab": {
          "base_uri": "https://localhost:8080/",
          "height": 321
        },
        "id": "yGBbT4pw0fjf",
        "outputId": "137b7014-0f2c-467c-ad4b-cf270e20df7c"
      },
      "source": [
        "plt.title(\"thickness of folded paper\")\n",
        "plt.xlabel(\"number of folds\")\n",
        "plt.ylabel(\"thickness[M]\")\n",
        "#changing line style and color\n",
        "plt.plot(list1, linewidth=3.0, color='red' )\n",
        "plt.tick_params(labelsize=20)\n",
        "plt.figure(figsize=(48, 24))\n",
        "plt.show()"
      ],
      "execution_count": 83,
      "outputs": [
        {
          "output_type": "display_data",
          "data": {
            "image/png": "[encoded data removed]",
            "text/plain": [
              "<Figure size 432x288 with 1 Axes>"
            ]
          },
          "metadata": {
            "needs_background": "light"
          }
        },
        {
          "output_type": "display_data",
          "data": {
            "text/plain": [
              "<Figure size 3456x1728 with 0 Axes>"
            ]
          },
          "metadata": {}
        }
      ]
    },
    {
      "cell_type": "markdown",
      "metadata": {
        "id": "yU1hHVbD1-3z"
      },
      "source": [
        "### Sprint10 assignment Deep Learning Scratch Neural Networks"
      ]
    },
    {
      "cell_type": "markdown",
      "metadata": {
        "id": "ErXmI77d2Pv9"
      },
      "source": [
        "#### The purpose of this Sprint<br>\n",
        "- Understand the basics of neural networks from scratch.\n",
        "- Know how to handle image data\n",
        "\n",
        "\n",
        "The MNIST dataset is used to validate the scratch neural network. You can download it from various libraries and websites, but here we use Keras, a deep learning framework. The following code will download the dataset and extract it for you.\n",
        "\n"
      ]
    },
    {
      "cell_type": "code",
      "metadata": {
        "id": "v7ef4IDH5J1W"
      },
      "source": [
        "from keras.datasets import mnist\n",
        "(X_train, y_train), (X_test, y_test) = mnist.load_data()"
      ],
      "execution_count": 84,
      "outputs": []
    },
    {
      "cell_type": "markdown",
      "metadata": {
        "id": "Zd3jr97o5mRD"
      },
      "source": [
        " What is MNIST? \n",
        "\n",
        "\n",
        "This is a standard data set for image classification and handwritten number recognition. This dataset contains 60,000 training and 10,000 test 28x28 pixel black and white images, and labels for which numbers are from 0 to 9.\n",
        "\n",
        "\n",
        "What is image data? \n",
        "\n",
        "A digital image is a collection of points, called pixels. Generally, for black and white images, pixels contain values from 0 to 255. On the other hand, if it is a color image, the values of 0 to 255 corresponding to R (red), G (green), and B (blue) are included. In machine learning, each value from 0 to 255 is treated as a feature quantity. Since 0 to 255 is the range that can be represented by an unsigned 8-bit integer, NumPy can be stored as a \"uint8\" type variable."
      ]
    },
    {
      "cell_type": "markdown",
      "metadata": {
        "id": "XmVvJlvb2S6R"
      },
      "source": [
        ""
      ]
    },
    {
      "cell_type": "code",
      "metadata": {
        "colab": {
          "base_uri": "https://localhost:8080/"
        },
        "id": "VkGnsftx6ADs",
        "outputId": "35a84ae1-1e46-497d-80ca-486f4d27f991"
      },
      "source": [
        "# Let's see what kind of data it is.\n",
        "print(X_train.shape) # (60000, 28, 28)\n",
        "print(X_test.shape) # (10000, 28, 28)\n",
        "print(X_train[0].dtype) # uint8\n",
        "print(X_train[0])"
      ],
      "execution_count": 85,
      "outputs": [
        {
          "output_type": "stream",
          "name": "stdout",
          "text": [
            "(60000, 28, 28)\n",
            "(10000, 28, 28)\n",
            "uint8\n",
            "[[  0   0   0   0   0   0   0   0   0   0   0   0   0   0   0   0   0   0\n",
            "    0   0   0   0   0   0   0   0   0   0]\n",
            " [  0   0   0   0   0   0   0   0   0   0   0   0   0   0   0   0   0   0\n",
            "    0   0   0   0   0   0   0   0   0   0]\n",
            " [  0   0   0   0   0   0   0   0   0   0   0   0   0   0   0   0   0   0\n",
            "    0   0   0   0   0   0   0   0   0   0]\n",
            " [  0   0   0   0   0   0   0   0   0   0   0   0   0   0   0   0   0   0\n",
            "    0   0   0   0   0   0   0   0   0   0]\n",
            " [  0   0   0   0   0   0   0   0   0   0   0   0   0   0   0   0   0   0\n",
            "    0   0   0   0   0   0   0   0   0   0]\n",
            " [  0   0   0   0   0   0   0   0   0   0   0   0   3  18  18  18 126 136\n",
            "  175  26 166 255 247 127   0   0   0   0]\n",
            " [  0   0   0   0   0   0   0   0  30  36  94 154 170 253 253 253 253 253\n",
            "  225 172 253 242 195  64   0   0   0   0]\n",
            " [  0   0   0   0   0   0   0  49 238 253 253 253 253 253 253 253 253 251\n",
            "   93  82  82  56  39   0   0   0   0   0]\n",
            " [  0   0   0   0   0   0   0  18 219 253 253 253 253 253 198 182 247 241\n",
            "    0   0   0   0   0   0   0   0   0   0]\n",
            " [  0   0   0   0   0   0   0   0  80 156 107 253 253 205  11   0  43 154\n",
            "    0   0   0   0   0   0   0   0   0   0]\n",
            " [  0   0   0   0   0   0   0   0   0  14   1 154 253  90   0   0   0   0\n",
            "    0   0   0   0   0   0   0   0   0   0]\n",
            " [  0   0   0   0   0   0   0   0   0   0   0 139 253 190   2   0   0   0\n",
            "    0   0   0   0   0   0   0   0   0   0]\n",
            " [  0   0   0   0   0   0   0   0   0   0   0  11 190 253  70   0   0   0\n",
            "    0   0   0   0   0   0   0   0   0   0]\n",
            " [  0   0   0   0   0   0   0   0   0   0   0   0  35 241 225 160 108   1\n",
            "    0   0   0   0   0   0   0   0   0   0]\n",
            " [  0   0   0   0   0   0   0   0   0   0   0   0   0  81 240 253 253 119\n",
            "   25   0   0   0   0   0   0   0   0   0]\n",
            " [  0   0   0   0   0   0   0   0   0   0   0   0   0   0  45 186 253 253\n",
            "  150  27   0   0   0   0   0   0   0   0]\n",
            " [  0   0   0   0   0   0   0   0   0   0   0   0   0   0   0  16  93 252\n",
            "  253 187   0   0   0   0   0   0   0   0]\n",
            " [  0   0   0   0   0   0   0   0   0   0   0   0   0   0   0   0   0 249\n",
            "  253 249  64   0   0   0   0   0   0   0]\n",
            " [  0   0   0   0   0   0   0   0   0   0   0   0   0   0  46 130 183 253\n",
            "  253 207   2   0   0   0   0   0   0   0]\n",
            " [  0   0   0   0   0   0   0   0   0   0   0   0  39 148 229 253 253 253\n",
            "  250 182   0   0   0   0   0   0   0   0]\n",
            " [  0   0   0   0   0   0   0   0   0   0  24 114 221 253 253 253 253 201\n",
            "   78   0   0   0   0   0   0   0   0   0]\n",
            " [  0   0   0   0   0   0   0   0  23  66 213 253 253 253 253 198  81   2\n",
            "    0   0   0   0   0   0   0   0   0   0]\n",
            " [  0   0   0   0   0   0  18 171 219 253 253 253 253 195  80   9   0   0\n",
            "    0   0   0   0   0   0   0   0   0   0]\n",
            " [  0   0   0   0  55 172 226 253 253 253 253 244 133  11   0   0   0   0\n",
            "    0   0   0   0   0   0   0   0   0   0]\n",
            " [  0   0   0   0 136 253 253 253 212 135 132  16   0   0   0   0   0   0\n",
            "    0   0   0   0   0   0   0   0   0   0]\n",
            " [  0   0   0   0   0   0   0   0   0   0   0   0   0   0   0   0   0   0\n",
            "    0   0   0   0   0   0   0   0   0   0]\n",
            " [  0   0   0   0   0   0   0   0   0   0   0   0   0   0   0   0   0   0\n",
            "    0   0   0   0   0   0   0   0   0   0]\n",
            " [  0   0   0   0   0   0   0   0   0   0   0   0   0   0   0   0   0   0\n",
            "    0   0   0   0   0   0   0   0   0   0]]\n"
          ]
        }
      ]
    },
    {
      "cell_type": "markdown",
      "metadata": {
        "id": "DRE-8F_T6Y_d"
      },
      "source": [
        "Each data is a 28x28 pixel black and white image."
      ]
    },
    {
      "cell_type": "markdown",
      "metadata": {
        "id": "yL2t2uoY6lf2"
      },
      "source": [
        "### Smoothing\n",
        "Each image of (1, 28, 28) is transformed into (1, 784). This is the form that we will use in the machine learning methods we have learned so far, and in the neural network we will use in this article, which is a fully coupled layer only. The fact that all pixels are in a single row is described as flatten."
      ]
    },
    {
      "cell_type": "code",
      "metadata": {
        "id": "yrmnjyZd6ke8"
      },
      "source": [
        "X_train = X_train.reshape(-1, 784)\n",
        "X_test = X_test.reshape(-1, 784)"
      ],
      "execution_count": 86,
      "outputs": []
    },
    {
      "cell_type": "markdown",
      "metadata": {
        "id": "kGL3D5CR6_5q"
      },
      "source": [
        "So far in our study of machine learning, we have referred to the number of features as \"dimensions\". From that point of view, MNIST is 784 dimensions of data. On the other hand, the state that NumPy's shape is (784,) is also called 1D array. If the shape is (28, 28) which has information of height and width as an image, it is 2 dimensional array. From this point of view, it is two-dimensional data. If it is a colour image, then it is (28, 28, 3), which is a 3D array. From the previous point of view, it is a 3-dimensional data. However, from the point of view of a flat image, whether in black and white or colour, it is not three-dimensional data, it is two-dimensional data. Note that when dealing with image data, the word \"dimension\" is used in this way with multiple connotations."
      ]
    },
    {
      "cell_type": "markdown",
      "metadata": {
        "id": "9-Z6StFm7I-b"
      },
      "source": [
        "### Visualization of image data\n",
        "Visualize the image data. Let's use plt.imshow."
      ]
    },
    {
      "cell_type": "code",
      "metadata": {
        "colab": {
          "base_uri": "https://localhost:8080/",
          "height": 281
        },
        "id": "tSL16WV96UW2",
        "outputId": "fbc305ad-069b-41a3-ace3-f4e74bd14adb"
      },
      "source": [
        "import matplotlib.pyplot as plt\n",
        "%matplotlib inline\n",
        "index = 0\n",
        "image = X_train[index].reshape(28,28)\n",
        "# X_train[index]: (784,)\n",
        "# image: (28, 28)\n",
        "plt.imshow(image, 'gray')\n",
        "plt.title('label : {}'.format(y_train[index]))\n",
        "plt.show()"
      ],
      "execution_count": 87,
      "outputs": [
        {
          "output_type": "display_data",
          "data": {
            "image/png": "[encoded data removed]",
            "text/plain": [
              "<Figure size 432x288 with 1 Axes>"
            ]
          },
          "metadata": {
            "needs_background": "light"
          }
        }
      ]
    },
    {
      "cell_type": "markdown",
      "metadata": {
        "id": "YqdI6aNI7kPf"
      },
      "source": [
        "Image data is usually held as an unsigned 8-bit integer of type uint8, butplt.imshowcan display a more flexible array as an image. For example, the following floating point of type float64 with a negative value will not cause an error and will be displayed in exactly the same way as before."
      ]
    },
    {
      "cell_type": "code",
      "metadata": {
        "id": "eSZx0oAy786f"
      },
      "source": [
        "import numpy as np\n"
      ],
      "execution_count": 88,
      "outputs": []
    },
    {
      "cell_type": "code",
      "metadata": {
        "colab": {
          "base_uri": "https://localhost:8080/",
          "height": 1000
        },
        "id": "h9sebC-w7pnT",
        "outputId": "7a6a0997-d3f7-4a5c-ac16-a9ecb1f0851b"
      },
      "source": [
        "index = 0\n",
        "image = X_train[index].reshape(28,28)\n",
        "image = image.astype(np.float) # Convert to float type\n",
        "image -= 105.35 # Intentionally try to create a negative decimal value\n",
        "plt.imshow(image, 'gray')\n",
        "plt.title('label : {}'.format(y_train[index]))\n",
        "plt.show()\n",
        "print(image) # Check the value"
      ],
      "execution_count": 89,
      "outputs": [
        {
          "output_type": "display_data",
          "data": {
            "image/png": "[encoded data removed]",
            "text/plain": [
              "<Figure size 432x288 with 1 Axes>"
            ]
          },
          "metadata": {
            "needs_background": "light"
          }
        },
        {
          "output_type": "stream",
          "name": "stdout",
          "text": [
            "[[-105.35 -105.35 -105.35 -105.35 -105.35 -105.35 -105.35 -105.35 -105.35\n",
            "  -105.35 -105.35 -105.35 -105.35 -105.35 -105.35 -105.35 -105.35 -105.35\n",
            "  -105.35 -105.35 -105.35 -105.35 -105.35 -105.35 -105.35 -105.35 -105.35\n",
            "  -105.35]\n",
            " [-105.35 -105.35 -105.35 -105.35 -105.35 -105.35 -105.35 -105.35 -105.35\n",
            "  -105.35 -105.35 -105.35 -105.35 -105.35 -105.35 -105.35 -105.35 -105.35\n",
            "  -105.35 -105.35 -105.35 -105.35 -105.35 -105.35 -105.35 -105.35 -105.35\n",
            "  -105.35]\n",
            " [-105.35 -105.35 -105.35 -105.35 -105.35 -105.35 -105.35 -105.35 -105.35\n",
            "  -105.35 -105.35 -105.35 -105.35 -105.35 -105.35 -105.35 -105.35 -105.35\n",
            "  -105.35 -105.35 -105.35 -105.35 -105.35 -105.35 -105.35 -105.35 -105.35\n",
            "  -105.35]\n",
            " [-105.35 -105.35 -105.35 -105.35 -105.35 -105.35 -105.35 -105.35 -105.35\n",
            "  -105.35 -105.35 -105.35 -105.35 -105.35 -105.35 -105.35 -105.35 -105.35\n",
            "  -105.35 -105.35 -105.35 -105.35 -105.35 -105.35 -105.35 -105.35 -105.35\n",
            "  -105.35]\n",
            " [-105.35 -105.35 -105.35 -105.35 -105.35 -105.35 -105.35 -105.35 -105.35\n",
            "  -105.35 -105.35 -105.35 -105.35 -105.35 -105.35 -105.35 -105.35 -105.35\n",
            "  -105.35 -105.35 -105.35 -105.35 -105.35 -105.35 -105.35 -105.35 -105.35\n",
            "  -105.35]\n",
            " [-105.35 -105.35 -105.35 -105.35 -105.35 -105.35 -105.35 -105.35 -105.35\n",
            "  -105.35 -105.35 -105.35 -102.35  -87.35  -87.35  -87.35   20.65   30.65\n",
            "    69.65  -79.35   60.65  149.65  141.65   21.65 -105.35 -105.35 -105.35\n",
            "  -105.35]\n",
            " [-105.35 -105.35 -105.35 -105.35 -105.35 -105.35 -105.35 -105.35  -75.35\n",
            "   -69.35  -11.35   48.65   64.65  147.65  147.65  147.65  147.65  147.65\n",
            "   119.65   66.65  147.65  136.65   89.65  -41.35 -105.35 -105.35 -105.35\n",
            "  -105.35]\n",
            " [-105.35 -105.35 -105.35 -105.35 -105.35 -105.35 -105.35  -56.35  132.65\n",
            "   147.65  147.65  147.65  147.65  147.65  147.65  147.65  147.65  145.65\n",
            "   -12.35  -23.35  -23.35  -49.35  -66.35 -105.35 -105.35 -105.35 -105.35\n",
            "  -105.35]\n",
            " [-105.35 -105.35 -105.35 -105.35 -105.35 -105.35 -105.35  -87.35  113.65\n",
            "   147.65  147.65  147.65  147.65  147.65   92.65   76.65  141.65  135.65\n",
            "  -105.35 -105.35 -105.35 -105.35 -105.35 -105.35 -105.35 -105.35 -105.35\n",
            "  -105.35]\n",
            " [-105.35 -105.35 -105.35 -105.35 -105.35 -105.35 -105.35 -105.35  -25.35\n",
            "    50.65    1.65  147.65  147.65   99.65  -94.35 -105.35  -62.35   48.65\n",
            "  -105.35 -105.35 -105.35 -105.35 -105.35 -105.35 -105.35 -105.35 -105.35\n",
            "  -105.35]\n",
            " [-105.35 -105.35 -105.35 -105.35 -105.35 -105.35 -105.35 -105.35 -105.35\n",
            "   -91.35 -104.35   48.65  147.65  -15.35 -105.35 -105.35 -105.35 -105.35\n",
            "  -105.35 -105.35 -105.35 -105.35 -105.35 -105.35 -105.35 -105.35 -105.35\n",
            "  -105.35]\n",
            " [-105.35 -105.35 -105.35 -105.35 -105.35 -105.35 -105.35 -105.35 -105.35\n",
            "  -105.35 -105.35   33.65  147.65   84.65 -103.35 -105.35 -105.35 -105.35\n",
            "  -105.35 -105.35 -105.35 -105.35 -105.35 -105.35 -105.35 -105.35 -105.35\n",
            "  -105.35]\n",
            " [-105.35 -105.35 -105.35 -105.35 -105.35 -105.35 -105.35 -105.35 -105.35\n",
            "  -105.35 -105.35  -94.35   84.65  147.65  -35.35 -105.35 -105.35 -105.35\n",
            "  -105.35 -105.35 -105.35 -105.35 -105.35 -105.35 -105.35 -105.35 -105.35\n",
            "  -105.35]\n",
            " [-105.35 -105.35 -105.35 -105.35 -105.35 -105.35 -105.35 -105.35 -105.35\n",
            "  -105.35 -105.35 -105.35  -70.35  135.65  119.65   54.65    2.65 -104.35\n",
            "  -105.35 -105.35 -105.35 -105.35 -105.35 -105.35 -105.35 -105.35 -105.35\n",
            "  -105.35]\n",
            " [-105.35 -105.35 -105.35 -105.35 -105.35 -105.35 -105.35 -105.35 -105.35\n",
            "  -105.35 -105.35 -105.35 -105.35  -24.35  134.65  147.65  147.65   13.65\n",
            "   -80.35 -105.35 -105.35 -105.35 -105.35 -105.35 -105.35 -105.35 -105.35\n",
            "  -105.35]\n",
            " [-105.35 -105.35 -105.35 -105.35 -105.35 -105.35 -105.35 -105.35 -105.35\n",
            "  -105.35 -105.35 -105.35 -105.35 -105.35  -60.35   80.65  147.65  147.65\n",
            "    44.65  -78.35 -105.35 -105.35 -105.35 -105.35 -105.35 -105.35 -105.35\n",
            "  -105.35]\n",
            " [-105.35 -105.35 -105.35 -105.35 -105.35 -105.35 -105.35 -105.35 -105.35\n",
            "  -105.35 -105.35 -105.35 -105.35 -105.35 -105.35  -89.35  -12.35  146.65\n",
            "   147.65   81.65 -105.35 -105.35 -105.35 -105.35 -105.35 -105.35 -105.35\n",
            "  -105.35]\n",
            " [-105.35 -105.35 -105.35 -105.35 -105.35 -105.35 -105.35 -105.35 -105.35\n",
            "  -105.35 -105.35 -105.35 -105.35 -105.35 -105.35 -105.35 -105.35  143.65\n",
            "   147.65  143.65  -41.35 -105.35 -105.35 -105.35 -105.35 -105.35 -105.35\n",
            "  -105.35]\n",
            " [-105.35 -105.35 -105.35 -105.35 -105.35 -105.35 -105.35 -105.35 -105.35\n",
            "  -105.35 -105.35 -105.35 -105.35 -105.35  -59.35   24.65   77.65  147.65\n",
            "   147.65  101.65 -103.35 -105.35 -105.35 -105.35 -105.35 -105.35 -105.35\n",
            "  -105.35]\n",
            " [-105.35 -105.35 -105.35 -105.35 -105.35 -105.35 -105.35 -105.35 -105.35\n",
            "  -105.35 -105.35 -105.35  -66.35   42.65  123.65  147.65  147.65  147.65\n",
            "   144.65   76.65 -105.35 -105.35 -105.35 -105.35 -105.35 -105.35 -105.35\n",
            "  -105.35]\n",
            " [-105.35 -105.35 -105.35 -105.35 -105.35 -105.35 -105.35 -105.35 -105.35\n",
            "  -105.35  -81.35    8.65  115.65  147.65  147.65  147.65  147.65   95.65\n",
            "   -27.35 -105.35 -105.35 -105.35 -105.35 -105.35 -105.35 -105.35 -105.35\n",
            "  -105.35]\n",
            " [-105.35 -105.35 -105.35 -105.35 -105.35 -105.35 -105.35 -105.35  -82.35\n",
            "   -39.35  107.65  147.65  147.65  147.65  147.65   92.65  -24.35 -103.35\n",
            "  -105.35 -105.35 -105.35 -105.35 -105.35 -105.35 -105.35 -105.35 -105.35\n",
            "  -105.35]\n",
            " [-105.35 -105.35 -105.35 -105.35 -105.35 -105.35  -87.35   65.65  113.65\n",
            "   147.65  147.65  147.65  147.65   89.65  -25.35  -96.35 -105.35 -105.35\n",
            "  -105.35 -105.35 -105.35 -105.35 -105.35 -105.35 -105.35 -105.35 -105.35\n",
            "  -105.35]\n",
            " [-105.35 -105.35 -105.35 -105.35  -50.35   66.65  120.65  147.65  147.65\n",
            "   147.65  147.65  138.65   27.65  -94.35 -105.35 -105.35 -105.35 -105.35\n",
            "  -105.35 -105.35 -105.35 -105.35 -105.35 -105.35 -105.35 -105.35 -105.35\n",
            "  -105.35]\n",
            " [-105.35 -105.35 -105.35 -105.35   30.65  147.65  147.65  147.65  106.65\n",
            "    29.65   26.65  -89.35 -105.35 -105.35 -105.35 -105.35 -105.35 -105.35\n",
            "  -105.35 -105.35 -105.35 -105.35 -105.35 -105.35 -105.35 -105.35 -105.35\n",
            "  -105.35]\n",
            " [-105.35 -105.35 -105.35 -105.35 -105.35 -105.35 -105.35 -105.35 -105.35\n",
            "  -105.35 -105.35 -105.35 -105.35 -105.35 -105.35 -105.35 -105.35 -105.35\n",
            "  -105.35 -105.35 -105.35 -105.35 -105.35 -105.35 -105.35 -105.35 -105.35\n",
            "  -105.35]\n",
            " [-105.35 -105.35 -105.35 -105.35 -105.35 -105.35 -105.35 -105.35 -105.35\n",
            "  -105.35 -105.35 -105.35 -105.35 -105.35 -105.35 -105.35 -105.35 -105.35\n",
            "  -105.35 -105.35 -105.35 -105.35 -105.35 -105.35 -105.35 -105.35 -105.35\n",
            "  -105.35]\n",
            " [-105.35 -105.35 -105.35 -105.35 -105.35 -105.35 -105.35 -105.35 -105.35\n",
            "  -105.35 -105.35 -105.35 -105.35 -105.35 -105.35 -105.35 -105.35 -105.35\n",
            "  -105.35 -105.35 -105.35 -105.35 -105.35 -105.35 -105.35 -105.35 -105.35\n",
            "  -105.35]]\n"
          ]
        }
      ]
    },
    {
      "cell_type": "markdown",
      "metadata": {
        "id": "EMM1XmRn8M_J"
      },
      "source": [
        "This is because it is designed to automatically convert a value to an integer from 0 to 255 for processing. Even if it is a uint8 type, if the minimum value is 0 and the maximum value is not 255, the hue will be strange. To prevent this, enter the argument as follows\n"
      ]
    },
    {
      "cell_type": "code",
      "metadata": {
        "colab": {
          "base_uri": "https://localhost:8080/",
          "height": 282
        },
        "id": "2_P1GMML8LAB",
        "outputId": "1b5aeadb-3a0a-4d8b-8300-90124c347555"
      },
      "source": [
        "plt.imshow(image, 'gray', vmin = 0, vmax = 255)"
      ],
      "execution_count": 90,
      "outputs": [
        {
          "output_type": "execute_result",
          "data": {
            "text/plain": [
              "<matplotlib.image.AxesImage at 0x7f5332fec490>"
            ]
          },
          "metadata": {},
          "execution_count": 90
        },
        {
          "output_type": "display_data",
          "data": {
            "image/png": "[encoded data removed]",
            "text/plain": [
              "<Figure size 432x288 with 1 Axes>"
            ]
          },
          "metadata": {
            "needs_background": "light"
          }
        }
      ]
    },
    {
      "cell_type": "markdown",
      "metadata": {
        "id": "vxVZFGxP8azG"
      },
      "source": [
        "This automatic scaling can produce unexpected results in image-related libraries, so be sure to check when using the new method.<br><br>\n",
        "### Preprocessing\n",
        "An image is represented by a uint8 type of 0 to 255, but in machine learning it will be handled as a float type of 0 to 1. It can be converted with the following code."
      ]
    },
    {
      "cell_type": "code",
      "metadata": {
        "colab": {
          "base_uri": "https://localhost:8080/"
        },
        "id": "n-7FeHOL8uMt",
        "outputId": "7078e1c0-c32c-4fa5-cd52-5eecb4431412"
      },
      "source": [
        "X_train = X_train.astype(np.float)\n",
        "X_test = X_test.astype(np.float)\n",
        "X_train /= 255\n",
        "X_test /= 255\n",
        "print(X_train.max()) # 1.0\n",
        "print(X_train.min()) # 0.0"
      ],
      "execution_count": 91,
      "outputs": [
        {
          "output_type": "stream",
          "name": "stdout",
          "text": [
            "1.0\n",
            "0.0\n"
          ]
        }
      ]
    },
    {
      "cell_type": "markdown",
      "metadata": {
        "id": "etgZOh4R82i6"
      },
      "source": [
        "\n",
        "Also, the correct label is an integer between 0 and 9, which is converted to one-hot expression for multi-class classification in neural networks. scikit-learn'sOneHotEncoderis used in the code below. The value in this one-hot representation is treated as a float because it indicates the probability of being that label."
      ]
    },
    {
      "cell_type": "code",
      "metadata": {
        "colab": {
          "base_uri": "https://localhost:8080/"
        },
        "id": "e4V7RISp88bd",
        "outputId": "bccc50b1-c3d0-4122-9de3-fc3a7b563dd3"
      },
      "source": [
        "from sklearn.preprocessing import OneHotEncoder\n",
        "enc = OneHotEncoder(handle_unknown='ignore', sparse=False)\n",
        "y_train_one_hot = enc.fit_transform(y_train[:, np.newaxis])\n",
        "y_test_one_hot = enc.transform(y_test[:, np.newaxis])\n",
        "print(y_train.shape) # (60000,)\n",
        "print(y_train_one_hot.shape) # (60000, 10)\n",
        "print(y_train_one_hot.dtype) # float64"
      ],
      "execution_count": 92,
      "outputs": [
        {
          "output_type": "stream",
          "name": "stdout",
          "text": [
            "(60000,)\n",
            "(60000, 10)\n",
            "float64\n"
          ]
        }
      ]
    },
    {
      "cell_type": "markdown",
      "metadata": {
        "id": "h6_GUWGJ9FaV"
      },
      "source": [
        "In addition, divide 20% of the 60,000 training data as verification data. The training data will be 48,000 and the verification data will be 12,000."
      ]
    },
    {
      "cell_type": "code",
      "metadata": {
        "colab": {
          "base_uri": "https://localhost:8080/"
        },
        "id": "bGzWV4pnBK6h",
        "outputId": "0eabf668-48c0-4583-ee51-9225c1460755"
      },
      "source": [
        "from sklearn.model_selection import train_test_split\n",
        "X_train, X_val, y_train, y_val = train_test_split(X_train, y_train, test_size=0.2)\n",
        "print(X_train.shape) \n",
        "print(X_val.shape) "
      ],
      "execution_count": 94,
      "outputs": [
        {
          "output_type": "stream",
          "name": "stdout",
          "text": [
            "(48000, 784)\n",
            "(12000, 784)\n"
          ]
        }
      ]
    },
    {
      "cell_type": "markdown",
      "metadata": {
        "id": "sXX7w31YBpKP"
      },
      "source": [
        "Mini batch processing\n",
        "In the past, machine learning scratch computed all samples at once. In neural networks, however, it is common to use stochastic gradient descent, where the data is input in chunks. A batch of data is called a mini-batch and the number of samples is called the batch size.​\n",
        "\n",
        "\n",
        "In this case, the batch size is 20. The training data we will use is 48000, so 48000 / 20 means 2400 iterations. In neural networks, this is called 2400 iteration Once all the training data has been viewed, one epoch has been completed. Repeating this epoch several times completes the learning process.\n",
        "\n",
        "\n",
        "We have prepared a simple iterator to achieve this. You can get a mini-batch by calling it with a for statement."
      ]
    },
    {
      "cell_type": "code",
      "metadata": {
        "id": "_nBCIS7lBh6I"
      },
      "source": [
        "class GetMiniBatch:\n",
        "    def __init__(self, X, y, batch_size = 20, seed=0):\n",
        "        self.batch_size = batch_size\n",
        "        np.random.seed(seed)\n",
        "        shuffle_index = np.random.permutation(np.arange(X.shape[0]))\n",
        "        self._X = X[shuffle_index]\n",
        "        self._y = y[shuffle_index]\n",
        "        self._stop = np.ceil(X.shape[0]/self.batch_size).astype(np.int)\n",
        "    def __len__(self):\n",
        "        return self._stop\n",
        "    def __getitem__(self,item):\n",
        "        p0 = item*self.batch_size\n",
        "        p1 = item*self.batch_size + self.batch_size\n",
        "        return self._X[p0:p1], self._y[p0:p1]        \n",
        "    def __iter__(self):\n",
        "        self._counter = 0\n",
        "        return self\n",
        "    def __next__(self):\n",
        "        if self._counter >= self._stop:\n",
        "            raise StopIteration()\n",
        "        p0 = self._counter*self.batch_size\n",
        "        p1 = self._counter*self.batch_size + self.batch_size\n",
        "        self._counter += 1\n",
        "        return self._X[p0:p1], self._y[p0:p1]"
      ],
      "execution_count": 95,
      "outputs": []
    },
    {
      "cell_type": "code",
      "metadata": {
        "colab": {
          "base_uri": "https://localhost:8080/"
        },
        "id": "eJ30RjWnBujA",
        "outputId": "788a71a7-5f67-4882-e143-fb6f2877f47c"
      },
      "source": [
        "get_mini_batch = GetMiniBatch(X_train, y_train, batch_size=20)\n",
        "print(len(get_mini_batch))\n",
        "print(get_mini_batch[5]) "
      ],
      "execution_count": 96,
      "outputs": [
        {
          "output_type": "stream",
          "name": "stdout",
          "text": [
            "2400\n",
            "(array([[0., 0., 0., ..., 0., 0., 0.],\n",
            "       [0., 0., 0., ..., 0., 0., 0.],\n",
            "       [0., 0., 0., ..., 0., 0., 0.],\n",
            "       ...,\n",
            "       [0., 0., 0., ..., 0., 0., 0.],\n",
            "       [0., 0., 0., ..., 0., 0., 0.],\n",
            "       [0., 0., 0., ..., 0., 0., 0.]]), array([2, 5, 2, 1, 5, 8, 1, 3, 3, 9, 7, 7, 7, 2, 9, 2, 4, 7, 0, 6],\n",
            "      dtype=uint8))\n"
          ]
        }
      ]
    },
    {
      "cell_type": "markdown",
      "metadata": {
        "id": "pjjs2k_dB5N9"
      },
      "source": [
        "[Problem 1] Creating a code to determine the initial weight value"
      ]
    },
    {
      "cell_type": "markdown",
      "metadata": {
        "id": "fmGX4fj8B9jW"
      },
      "source": [
        "Write the code that determines the initial weights for each layer of the neural network.\n",
        "\n",
        "\n",
        "Various methods have been proposed for the initial value of the weight, but this time we will perform a simple initialization using a Gaussian distribution. The same is true for bias.\n",
        "\n",
        "\n",
        "Please refer to the code below. The standard deviation value sigma is a hyperparameter. The evolutionary weight initialization method will be covered in the next Sprint."
      ]
    },
    {
      "cell_type": "code",
      "metadata": {
        "colab": {
          "base_uri": "https://localhost:8080/"
        },
        "id": "lCHhRR46DC6H",
        "outputId": "ecfb04d8-c254-4f93-9f12-f4a6a19ee33a"
      },
      "source": [
        "n_features = 784\n",
        "n_nodes1 = 400\n",
        "sigma = 0.01 \n",
        "n_output = 10\n",
        "W1 = sigma * np.random.randn(n_features, n_nodes1)\n",
        "n_nodes2 = 200\n",
        "n_nodes3 = 10\n",
        "W2 = sigma * np.random.randn(n_nodes1, n_nodes2)\n",
        "B1 = sigma * np.random.randn(n_nodes1)\n",
        "B2 = sigma * np.random.randn(n_nodes2)\n",
        "W3 = sigma * np.random.randn(n_nodes2, n_output)\n",
        "B3 = sigma * np.random.randn(n_nodes3)\n",
        "print(\"W1-->\",W1.shape)\n",
        "print(\"W2-->\",W2.shape)\n",
        "print(\"b1-->\",B1.shape)\n",
        "print(\"b2-->\",B2.shape)\n",
        "print(\"W3-->\",W3.shape)\n",
        "print(\"b3-->\",B3.shape)"
      ],
      "execution_count": 99,
      "outputs": [
        {
          "output_type": "stream",
          "name": "stdout",
          "text": [
            "W1--> (784, 400)\n",
            "W2--> (400, 200)\n",
            "b1--> (400,)\n",
            "b2--> (200,)\n",
            "W3--> (200, 10)\n",
            "b3--> (10,)\n"
          ]
        }
      ]
    },
    {
      "cell_type": "markdown",
      "metadata": {
        "id": "d5EXqoRNCHa4"
      },
      "source": [
        "[Problem 2] Implementation of forward propagation"
      ]
    },
    {
      "cell_type": "markdown",
      "metadata": {
        "id": "MR4PPo6ICLNf"
      },
      "source": [
        "Please create a three layer neural network Forward propagation. In the following explanation, the number of nodes is 400 for the first layer and 200 for the second layer, but you can change it.\n",
        "\n",
        "\n",
        "The formulas for each layer are shown below. This time, it also describes what kind of ndarray shape the array represented by each symbol has in the implementation.\n",
        "\n"
      ]
    },
    {
      "cell_type": "code",
      "metadata": {
        "id": "QaFD5KMcCSJp"
      },
      "source": [
        "batch_size = 20 # batch size \n",
        "n_features = 784 # number of features \n",
        "n_nodes1 = 400 # number of first layer nodes \n",
        "n_nodes2 = 200 # number of second layer nodes \n",
        "n_output = 10 # number of output classes (number of nodes in the 3rd layer)"
      ],
      "execution_count": 100,
      "outputs": []
    },
    {
      "cell_type": "markdown",
      "metadata": {
        "id": "s-1c-U-dET3q"
      },
      "source": [
        "\n",
        "We will create a class of neural network from scratch. We will implement the algorithm using only the minimum library such as NumPy.\n",
        "\n",
        "\n",
        "This time, we will create a three-layer neural network for multi-class classification. Learn the basics of neural networks after fixing the number of layers. In the next Sprint, we will make the design that layers can be changed freely.\n",
        "\n",
        "\n",
        "Below is a template. Add code to this ScratchSimpleNeuralNetrowkClassifier class."
      ]
    },
    {
      "cell_type": "markdown",
      "metadata": {
        "id": "cG7cmZykFIxw"
      },
      "source": [
        "Softmax Functions\n",
        "Create a softmax function and use it in forward propagation. This is another type of activation function, but it is often treated differently due to its characteristics used in the output layer of multiclass classification."
      ]
    },
    {
      "cell_type": "code",
      "metadata": {
        "id": "fPZT53zqECHI"
      },
      "source": [
        "class ScratchSimpleNeuralNetrowkClassifier():\n",
        "\n",
        "    def __init__(self, verbose=False):\n",
        "        self.verbose = verbose\n",
        "        self.batch_size = 20 \n",
        "        self.n_features = 784 \n",
        "        self.n_nodes1 = 400 \n",
        "        self.n_nodes2 = 200 \n",
        "        self.n_output = 10 \n",
        "        self.sigma = 0.02 \n",
        "        self.lr = 0.01 \n",
        "        self.epoch = 10 \n",
        "    \n",
        "    def fit(self, X, y, X_val=None, y_val=None):\n",
        "        self.loss_train = []\n",
        "        self.loss_test = []\n",
        "        self.W1 = self.sigma * np.random.randn(self.n_features, self.n_nodes1)\n",
        "        self.W2 = self.sigma * np.random.randn(self.n_nodes1, self.n_nodes2)\n",
        "        self.W3 = self.sigma * np.random.randn(self.n_nodes2, self.n_output)\n",
        "        self.B1 = self.sigma * np.random.randn(1, self.n_nodes1)\n",
        "        self.B2 = self.sigma * np.random.randn(1, self.n_nodes2)\n",
        "        self.B3 = self.sigma * np.random.randn(1, self.n_output)\n",
        "        \n",
        "        for _ in range(self.epoch):\n",
        "            get_mini_batch = GetMiniBatch(X, y, batch_size=20)\n",
        "            for mini_X_train, mini_y_train in get_mini_batch:\n",
        "                self.forward(mini_X_train)\n",
        "                self.backward(mini_X_train, mini_y_train)\n",
        "            self.forward(X)\n",
        "            self.loss_train.append(self.cross_entropy_error(y, self.Z3))\n",
        "            if X_val is not None:\n",
        "                self.forward(X_val)\n",
        "                self.loss_test.append(self.cross_entropy_error(y_val, self.Z3))\n",
        "\n",
        "        if self.verbose:\n",
        "            print(self.loss_train)\n",
        "    \n",
        "    def forward(self, X):\n",
        "        self.A1 = X @ self.W1 + self.B1\n",
        "        self.Z1 = self.tanh_function(self.A1)\n",
        "        self.A2 = self.Z1 @ self.W2 + self.B2\n",
        "        self.Z2 = self.sigmoid_function(self.A2)\n",
        "        self.A3 = self.Z2 @ self.W3 + self.B3\n",
        "        self.Z3 = self.softmax(self.A3)\n",
        "    \n",
        "    def backward(self, mini_X, mini_y):\n",
        "        dA3 = self.Z3 - mini_y\n",
        "        dB3 = np.sum(dA3, axis=0)\n",
        "        dW3 = self.Z2.T @ dA3\n",
        "        dZ2 = dA3 @ self.W3.T\n",
        "        dA2 = dZ2 * (1 - self.tanh_function(self.A2)**2)\n",
        "        dB2 = np.sum(dA2, axis=0)\n",
        "        dW2 = self.Z1.T @ dA2\n",
        "        dZ1 = dA2 @ self.W2.T\n",
        "        dA1 = dZ1 * (1 - self.tanh_function(self.A1)**2)\n",
        "        dB1 = np.sum(dA1, axis=0)\n",
        "        dW1 = mini_X.T @ dA1\n",
        "        self.W3 -= self.lr * dW3\n",
        "        self.B3 -= self.lr * dB3\n",
        "        self.W2 -= self.lr * dW2\n",
        "        self.B2 -= self.lr * dB2\n",
        "        self.W1 -= self.lr * dW1\n",
        "        self.B1 -= self.lr * dB1\n",
        "                \n",
        "    def sigmoid_function(self, A):\n",
        "        return 1 / (1 + np.exp(-A))\n",
        "\n",
        "    def tanh_function(self, A):\n",
        "        return np.tanh(A)\n",
        "    \n",
        "    def softmax(self, A):\n",
        "        return np.exp(A) / np.sum(np.exp(A), axis=1).reshape(-1, 1)\n",
        "\n",
        "    def cross_entropy_error(self, y, Z):\n",
        "        L = - np.sum(y * np.log(Z)) / len(y)\n",
        "        return L\n",
        "        \n",
        "    def predict(self, X):\n",
        "        self.forward(X)\n",
        "        return np.argmax(self.Z3, axis=1)"
      ],
      "execution_count": 101,
      "outputs": []
    },
    {
      "cell_type": "markdown",
      "metadata": {
        "id": "cU7iavNBE3mb"
      },
      "source": [
        "【Problem 6】Learning and estimation\n",
        "\n",
        "Train and estimate the MNIST data and calculate the Accuracy."
      ]
    },
    {
      "cell_type": "code",
      "metadata": {
        "id": "NyWN_y2fE24g"
      },
      "source": [
        "from sklearn.preprocessing import OneHotEncoder\n",
        "encoder = OneHotEncoder(handle_unknown='ignore', sparse=False)\n",
        "y_train_one_hot = encoder.fit_transform(y_train[:, np.newaxis])\n",
        "y_test_one_hot = encoder.transform(y_val[:, np.newaxis])"
      ],
      "execution_count": 102,
      "outputs": []
    },
    {
      "cell_type": "code",
      "metadata": {
        "id": "PdGm0OZLF2pp"
      },
      "source": [
        "neuralN = ScratchSimpleNeuralNetrowkClassifier()\n",
        "neuralN.fit(X_train, y_train_one_hot, X_val, y_test_one_hot)\n",
        "pred_train = neuralN.predict(X_train)\n",
        "pred_test = neuralN.predict(X_val)"
      ],
      "execution_count": 103,
      "outputs": []
    },
    {
      "cell_type": "markdown",
      "metadata": {
        "id": "Bgc6maXfF_uN"
      },
      "source": [
        "【Problem 7】Learning curve plot\n",
        "Plot the learning curve.\n",
        "\n",
        "\n",
        "Checking the learning curve is important because neural networks are prone to overfitting. We need to be able to record the loss (cross entropy error) per epoch for the training and validation data."
      ]
    },
    {
      "cell_type": "code",
      "metadata": {
        "colab": {
          "base_uri": "https://localhost:8080/",
          "height": 265
        },
        "id": "eQNSinf1F-9q",
        "outputId": "05094a0a-3cbc-49c3-ccf3-73c57fe4a94e"
      },
      "source": [
        "plt.plot(list(range(1, neuralN.epoch+1)), neuralN.loss_train, label='train')\n",
        "plt.plot(list(range(1, neuralN.epoch+1)), neuralN.loss_test, label='test')\n",
        "plt.legend()\n",
        "plt.xticks(list(range(1, neuralN.epoch+1)));"
      ],
      "execution_count": 104,
      "outputs": [
        {
          "output_type": "display_data",
          "data": {
            "image/png": "[encoded data removed]",
            "text/plain": [
              "<Figure size 432x288 with 1 Axes>"
            ]
          },
          "metadata": {
            "needs_background": "light"
          }
        }
      ]
    },
    {
      "cell_type": "markdown",
      "metadata": {
        "id": "-d40uwpnGPu1"
      },
      "source": [
        "[Problem 8] (Advance assignment) Confirmation of misclassification\n",
        "\n",
        "See what the misclassified image looked like. Take an estimate and run the code below."
      ]
    },
    {
      "cell_type": "code",
      "metadata": {
        "colab": {
          "base_uri": "https://localhost:8080/",
          "height": 396
        },
        "id": "x3b1NTR6GXu4",
        "outputId": "f1ac845a-31c9-406c-acc2-dac396ef492c"
      },
      "source": [
        "y_pred = pred_test\n",
        "import numpy as np\n",
        "import matplotlib.pyplot as plt\n",
        "num = 36\n",
        "true_false = y_pred==y_val\n",
        "false_list = np.where(true_false==False)[0].astype(np.int)\n",
        "if false_list.shape[0] < num:\n",
        "    num = false_list.shape[0]\n",
        "fig = plt.figure(figsize=(6, 6))\n",
        "fig.subplots_adjust(left=0, right=0.8,  bottom=0, top=0.8, hspace=1, wspace=0.5)\n",
        "for i in range(num):\n",
        "    ax = fig.add_subplot(6, 6, i + 1, xticks=[], yticks=[])\n",
        "    ax.set_title(\"{} / {}\".format(y_pred[false_list[i]],y_val[false_list[i]]))\n",
        "    ax.imshow(X_val.reshape(-1,28,28)[false_list[i]], cmap='gray')"
      ],
      "execution_count": 105,
      "outputs": [
        {
          "output_type": "display_data",
          "data": {
            "image/png": "[encoded data removed]",
            "text/plain": [
              "<Figure size 432x432 with 36 Axes>"
            ]
          },
          "metadata": {}
        }
      ]
    },
    {
      "cell_type": "markdown",
      "metadata": {
        "id": "nDHIGSAKeGQZ"
      },
      "source": [
        ""
      ]
    },
    {
      "cell_type": "markdown",
      "metadata": {
        "id": "5sQpIEVfeGgx"
      },
      "source": [
        "## Suggestions\n",
        "There are lots of challenges surrounding machine learning. From experience lot of student will decide to giveup if the righ technique is not implimented. It is the role of every mentor is working hard to capture the attention of students and to make every lesson unforgettable and exciting. looking at some of the challenges faceed during the just concluded course, it will be good if some improvment are made in the following areas\n",
        "- Extension of the the lecture time. One hour is too small to explain a bunch of code to begineers. And some time there no time for class interraction.\n",
        "- Secondly creating group project. This will encourage peer learning and also help those tha would not grab the concept during lectures.\n",
        "- Thirdly, the creation of example project prior to assignment project. For every assignment project given, one or two example project should be cover to give the student a head. And also assignment project should not just be able passing. but student should be monitored to ensure they understand what they are doing.\n",
        "- Finally, mathematical calculations like the ones encountered during the sprint machine learning should be solved in whiteboards instead of using bounch of pictures. \n"
      ]
    },
    {
      "cell_type": "markdown",
      "metadata": {
        "id": "eSiH5T_BmKRS"
      },
      "source": [
        ""
      ]
    }
  ]
}